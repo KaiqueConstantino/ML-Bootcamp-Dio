{
  "nbformat": 4,
  "nbformat_minor": 0,
  "metadata": {
    "colab": {
      "provenance": []
    },
    "kernelspec": {
      "name": "python3",
      "display_name": "Python 3"
    },
    "language_info": {
      "name": "python"
    }
  },
  "cells": [
    {
      "cell_type": "markdown",
      "source": [
        "# Making an First Project of Machine learning from the bootcamp of Machine learning from dio in colaboration with Bairesdev"
      ],
      "metadata": {
        "id": "tLLATGUrCD8_"
      }
    },
    {
      "cell_type": "code",
      "execution_count": 20,
      "metadata": {
        "id": "WWLbL6HMAylr"
      },
      "outputs": [],
      "source": [
        "# Importing the libraries\n",
        "import numpy as np\n",
        "import torch\n",
        "import torch.nn.functional as F\n",
        "import torchvision\n",
        "import matplotlib.pyplot as plt\n",
        "from time import time\n",
        "from torchvision import datasets, transforms\n",
        "from torch import nn, optim\n"
      ]
    },
    {
      "cell_type": "code",
      "source": [
        "transform = transforms.ToTensor()\n",
        "\n",
        "trainset = datasets.MNIST('./MNIST_data/', download=True, train=True, transform=transform)\n",
        "trainloader = torch.utils.data.DataLoader(trainset, shuffle=True, batch_size=64)\n",
        "\n",
        "\n",
        "valset = datasets.MNIST('./MNIST_data/', download=True, train=False, transform=transform)\n",
        "valloader = torch.utils.data.DataLoader(valset, shuffle=True, batch_size=64)"
      ],
      "metadata": {
        "id": "9lh1x5hHLHbX"
      },
      "execution_count": 21,
      "outputs": []
    },
    {
      "cell_type": "code",
      "source": [
        "dataiter = iter(trainloader)\n",
        "imagens, etiquetas = next(dataiter)\n",
        "plt.imshow(imagens[0].numpy().squeeze(), cmap='gray_r');"
      ],
      "metadata": {
        "colab": {
          "base_uri": "https://localhost:8080/",
          "height": 430
        },
        "id": "4_Na0SbeMFKf",
        "outputId": "c522cf4c-e006-47b8-ce71-4cfa9ac5d295"
      },
      "execution_count": 22,
      "outputs": [
        {
          "output_type": "display_data",
          "data": {
            "text/plain": [
              "<Figure size 640x480 with 1 Axes>"
            ],
            "image/png": "[encoded data removed]"
          },
          "metadata": {}
        }
      ]
    },
    {
      "cell_type": "code",
      "source": [
        "print(imagens[0].shape)# Check the dimensions of the tensor of each image\n",
        "print(etiquetas[0].shape) # Check the dimensions of the labels\n"
      ],
      "metadata": {
        "colab": {
          "base_uri": "https://localhost:8080/"
        },
        "id": "FhH3dl3LNm2j",
        "outputId": "eacb87c6-cd20-4d7d-db28-5b34920abb53"
      },
      "execution_count": 23,
      "outputs": [
        {
          "output_type": "stream",
          "name": "stdout",
          "text": [
            "torch.Size([1, 28, 28])\n",
            "torch.Size([])\n"
          ]
        }
      ]
    },
    {
      "cell_type": "markdown",
      "source": [
        "# Building the Structure of Neural Networks"
      ],
      "metadata": {
        "id": "bxyoaZVtUhFK"
      }
    },
    {
      "cell_type": "code",
      "source": [
        "class Modelo(nn.Module):\n",
        "  def __init__(self):\n",
        "    super(Modelo, self).__init__()\n",
        "    self.linear1 = nn.Linear(28*28, 128) # Input layer, 784 neurons that connect to 128\n",
        "    self.linear2 = nn.Linear(128, 64) # internal layer 1, 128 neurons that connect to 64\n",
        "    self.linear3 = nn.Linear(64, 10) # Internal layer 2, 64 neurons that connect to 10\n",
        "\n",
        "  def forward(self,X):\n",
        "    X = F.relu(self.linear1(X)) # Function activation for the entrance layer for the Internal layer 1\n",
        "    X = F.relu(self.linear2(X)) # Function activation for the Internal Layer 2\n",
        "    X = self.linear3(X) # Function activation for the intern layer 2 for the output, that case f(x) = x\n",
        "    return F.log_softmax(X, dim=1) # Used data to calculate de loss\n"
      ],
      "metadata": {
        "id": "LSMZYvmwO66t"
      },
      "execution_count": 24,
      "outputs": []
    },
    {
      "cell_type": "markdown",
      "source": [
        "# Building the Structure of Traing"
      ],
      "metadata": {
        "id": "jWOKnz_gUx6K"
      }
    },
    {
      "cell_type": "code",
      "source": [
        "def treino(modelo, trainloader, device):\n",
        "  otimizador = optim.SGD(modelo.parameters(), lr=0.01, momentum=0.5) # Define the polictical atualization of bias and weight\n",
        "  inicio = time() # Timer for measure the training time\n",
        "\n",
        "  criterio = nn.NLLLoss() # defining the criterion to calc loss\n",
        "  EPOCHS = 10 # Number of epochs that the algorithm will do\n",
        "  modelo.train() # Activate the training for the model\n",
        "\n",
        "  for epoch in range(EPOCHS):\n",
        "    perda_acumulada = 0 # Initialize the loss\n",
        "\n",
        "    for imagens, etiquetas in trainloader:\n",
        "\n",
        "      imagens = imagens.view(imagens.shape[0], -1)\n",
        "      otimizador.zero_grad() # Clear the gradient\n",
        "\n",
        "\n",
        "      output = modelo(imagens.to(device)) # Forward pass\n",
        "      perda_instantanea = criterio(output, etiquetas.to(device))\n",
        "\n",
        "      perda_instantanea.backward() # Backward pass\n",
        "      otimizador.step() # Update the weights\n",
        "\n",
        "      perda_acumulada += perda_instantanea.item() # Actualization of acumulate loss\n",
        "\n",
        "  else:\n",
        "    print(\"Epoch {} - Perda resultante: {}\".format(epoch+1, perda_acumulada/len(trainloader)))\n",
        "  print(\"Tempo de treino (em minutos) :\", (time()-inicio)/60)\n",
        "\n",
        "\n"
      ],
      "metadata": {
        "id": "MWTOUXbNSvIo"
      },
      "execution_count": 25,
      "outputs": []
    },
    {
      "cell_type": "code",
      "source": [
        "def validacao(modelo, valloader, device):\n",
        "  conta_corretas, conta_todas = 0, 0\n",
        "  for imagens, etiquetas in valloader:\n",
        "    for i in range(len(etiquetas)):\n",
        "      img = imagens[i].view(1, 784)\n",
        "      with torch.no_grad():\n",
        "        logps = modelo(img.to(device)) # output the model in algotithm Scale\n",
        "\n",
        "\n",
        "      ps = torch.exp(logps)\n",
        "      probab = list(ps.cpu().numpy()[0])\n",
        "      etiqueta_pred = probab.index(max(probab))\n",
        "      etiqueta_certa = etiquetas.numpy()[i]\n",
        "      if (etiqueta_certa == etiqueta_pred):\n",
        "        conta_corretas += 1\n",
        "      conta_todas += 1\n",
        "\n",
        "  print(\"Total de imagens testadas =\", conta_todas)\n",
        "  print(\"\\nPrecisão do modelo = {}%\".format(conta_corretas*100/conta_todas))"
      ],
      "metadata": {
        "id": "8xFdREBmXdEi"
      },
      "execution_count": 26,
      "outputs": []
    },
    {
      "cell_type": "markdown",
      "source": [
        "Execute the model\n"
      ],
      "metadata": {
        "id": "Ffn-MeHpYt5i"
      }
    },
    {
      "cell_type": "code",
      "source": [
        "modelo = Modelo()\n",
        "device = torch.device(\"cuda\" if torch.cuda.is_available() else \"cpu\")\n",
        "modelo.to(device)"
      ],
      "metadata": {
        "colab": {
          "base_uri": "https://localhost:8080/"
        },
        "id": "vGRAJ70kYsu5",
        "outputId": "735653b7-af0f-4b4e-9cda-644e6db06393"
      },
      "execution_count": 27,
      "outputs": [
        {
          "output_type": "execute_result",
          "data": {
            "text/plain": [
              "Modelo(\n",
              "  (linear1): Linear(in_features=784, out_features=128, bias=True)\n",
              "  (linear2): Linear(in_features=128, out_features=64, bias=True)\n",
              "  (linear3): Linear(in_features=64, out_features=10, bias=True)\n",
              ")"
            ]
          },
          "metadata": {},
          "execution_count": 27
        }
      ]
    }
  ]
}